{
 "cells": [
  {
   "cell_type": "code",
   "execution_count": null,
   "id": "037f7df0",
   "metadata": {},
   "outputs": [],
   "source": [
    "#https://ruby-doc.org/stdlib-3.0.2/libdoc/csv/rdoc/CSV.html"
   ]
  },
  {
   "cell_type": "code",
   "execution_count": 1,
   "id": "75dddb77",
   "metadata": {},
   "outputs": [
    {
     "data": {
      "text/plain": [
       "true"
      ]
     },
     "execution_count": 1,
     "metadata": {},
     "output_type": "execute_result"
    }
   ],
   "source": [
    "require 'twitter'\n",
    "require 'csv'\n"
   ]
  },
  {
   "cell_type": "code",
   "execution_count": 2,
   "id": "9a37cca9",
   "metadata": {},
   "outputs": [
    {
     "data": {
      "text/plain": [
       "#<Twitter::REST::Client:0x000001925cdaea40 @consumer_key=\"#\", @consumer_secret=\"#\", @access_token=\"#\", @access_token_secret=\"#\">"
      ]
     },
     "execution_count": 2,
     "metadata": {},
     "output_type": "execute_result"
    }
   ],
   "source": [
    "client = Twitter::REST::Client.new do |config|\n",
    "  config.consumer_key        = \"#\"\n",
    "  config.consumer_secret     = \"#\"\n",
    "  config.access_token        = \"#\"\n",
    "  config.access_token_secret = \"#\"  \n",
    "end"
   ]
  },
  {
   "cell_type": "code",
   "execution_count": 6,
   "id": "979a27c5",
   "metadata": {},
   "outputs": [
    {
     "data": {
      "text/plain": [
       "\"vacuna since:2021-10-14 until:2021-10-19\""
      ]
     },
     "execution_count": 6,
     "metadata": {},
     "output_type": "execute_result"
    }
   ],
   "source": [
    "since_= \"2021-10-14\"\n",
    "until_= \"2021-10-19\"\n",
    "lang= \"es\"\n",
    "\n",
    "opciones = { tweet_mode: 'extended', lang: lang, retry_on_limit:'True', geocode: \"-23.858436,-56.329842,1000mi\" }\n",
    "\n",
    "\n",
    "query = \"vacuna since:\" +since_+ \" until:\"+until_ \n",
    "#query = \"anr  -rt since:\" +since_+ \" until:\"+until_ \n",
    "\n",
    "\n",
    "\n"
   ]
  },
  {
   "cell_type": "code",
   "execution_count": 7,
   "id": "81e574a9",
   "metadata": {},
   "outputs": [
    {
     "name": "stdout",
     "output_type": "stream",
     "text": [
      "3000 3000 3000 3000 3000 "
     ]
    }
   ],
   "source": [
    "max_id = 0\n",
    "j = 0\n",
    "CSV.open(\"ruby_set_1.csv\", \"a+\", encoding: \"utf-8\") do |csv|\n",
    "  csv << ['texto', 'fecha', 'usuario']\n",
    "  \n",
    "  \n",
    "  \n",
    "  for i in(0...8 )\n",
    "          begin\n",
    "            \n",
    "\n",
    "               resultado = client.search(query, options = opciones).take(3000)\n",
    "            \n",
    "               print(resultado.size)\n",
    "               print(\" \") \n",
    "             \n",
    "               #for tweet in resultado do\n",
    "               resultado.each do |tweet|\n",
    "                  csv << [tweet.full_text.downcase, tweet.created_at, tweet.user.screen_name]\n",
    "                  max_id = tweet.id\n",
    "                 \n",
    "               end  \n",
    "            \n",
    "               \n",
    "\n",
    "          rescue\n",
    "            \n",
    "            sleep(60)\n",
    "\n",
    "          end\n",
    "\n",
    "          \n",
    "    \n",
    "          opciones = { tweet_mode: 'extended', lang: lang, retry_on_limit:'True', max_id:max_id }\n",
    "\n",
    "    end\n",
    "  \n",
    "   csv.close\n",
    "  \n",
    "end\n"
   ]
  },
  {
   "cell_type": "code",
   "execution_count": 6,
   "id": "5e1f89ca",
   "metadata": {},
   "outputs": [
    {
     "name": "stdout",
     "output_type": "stream",
     "text": [
      "3000 3000 "
     ]
    }
   ],
   "source": [
    "## otro\n",
    "\n",
    "since_= \"2021-10-14\"\n",
    "until_= \"2021-10-19\"\n",
    "lang= \"es\"\n",
    "\n",
    "opciones = { tweet_mode: 'extended', lang: lang, retry_on_limit:'True' }\n",
    "\n",
    "\n",
    "query = \" since:\" +since_+ \" until:\"+until_ \n",
    "\n",
    "\n",
    "max_id = 0\n",
    "j = 0\n",
    "CSV.open(\"ruby_set_2.csv\", \"a+\", encoding: \"utf-8\") do |csv|\n",
    "  csv << ['texto', 'fecha', 'usuario']\n",
    "  \n",
    "  \n",
    "  \n",
    "  for i in(0...2 )\n",
    "          begin\n",
    "            \n",
    "\n",
    "               resultado = client.search(query, options = opciones).take(3000)\n",
    "            \n",
    "               print(resultado.size)\n",
    "               print(\" \") \n",
    "             \n",
    "               #for tweet in resultado do\n",
    "               resultado.each do |tweet|\n",
    "                  csv << [tweet.full_text.downcase, tweet.created_at, tweet.user.screen_name]\n",
    "                  max_id = tweet.id\n",
    "                 \n",
    "               end  \n",
    "            \n",
    "               \n",
    "\n",
    "          rescue\n",
    "            \n",
    "            sleep(60)\n",
    "\n",
    "          end\n",
    "\n",
    "          \n",
    "    \n",
    "          opciones = { tweet_mode: 'extended', lang: lang, retry_on_limit:'True', max_id:max_id }\n",
    "\n",
    "    end\n",
    "  \n",
    "   csv.close\n",
    "  \n",
    "end\n",
    "\n"
   ]
  },
  {
   "cell_type": "code",
   "execution_count": null,
   "id": "6df49bdc",
   "metadata": {},
   "outputs": [],
   "source": []
  }
 ],
 "metadata": {
  "kernelspec": {
   "display_name": "Ruby 3.0.2",
   "language": "ruby",
   "name": "ruby"
  },
  "language_info": {
   "file_extension": ".rb",
   "mimetype": "application/x-ruby",
   "name": "ruby",
   "version": "3.0.2"
  }
 },
 "nbformat": 4,
 "nbformat_minor": 5
}
