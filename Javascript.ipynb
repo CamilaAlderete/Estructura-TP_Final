{
 "cells": [
  {
   "cell_type": "markdown",
   "id": "30b4005d",
   "metadata": {},
   "source": [
    "\n",
    "https://www.npmjs.com/package/csv\n",
    "\n",
    "dataframe-js\n",
    "https://gmousse.gitbooks.io/dataframe-js/content/doc/api/dataframe.html\n",
    "\n",
    "libreria twitter\n",
    "https://github.com/ttezel/twit\n",
    "\n",
    "ordenacion de diciconario\n",
    "https://newbedev.com/sort-dict-by-key-js-code-example\n",
    "\n",
    "graficos\n",
    "https://plotly.com/nodejs/\n",
    "\n",
    "\n"
   ]
  },
  {
   "cell_type": "code",
   "execution_count": 2,
   "id": "351c33a2",
   "metadata": {},
   "outputs": [],
   "source": [
    "var Twit = require('twit')"
   ]
  },
  {
   "cell_type": "code",
   "execution_count": 3,
   "id": "ea4e603f",
   "metadata": {},
   "outputs": [],
   "source": [
    "var DataFrame = require('dataframe-js').DataFrame;"
   ]
  },
  {
   "cell_type": "code",
   "execution_count": 4,
   "id": "d11a81bf",
   "metadata": {},
   "outputs": [],
   "source": [
    "var Plotly = require(\"ijavascript-plotly\");"
   ]
  },
  {
   "cell_type": "code",
   "execution_count": 5,
   "id": "625ad5d4",
   "metadata": {},
   "outputs": [],
   "source": [
    "var arrayCounter = require('array-counter');\n"
   ]
  },
  {
   "cell_type": "code",
   "execution_count": 6,
   "id": "36aef229",
   "metadata": {},
   "outputs": [],
   "source": [
    "var plotly = require('plotly')(\"#usuario\", \"#token\")"
   ]
  },
  {
   "cell_type": "code",
   "execution_count": 7,
   "id": "d94cd96e",
   "metadata": {},
   "outputs": [],
   "source": [
    "var T = new Twit({\n",
    "  consumer_key:         '#',\n",
    "  consumer_secret:      '#',\n",
    "  access_token:         '#',\n",
    "  access_token_secret:  '#',\n",
    "  timeout_ms:           60*1000,  // optional HTTP request timeout to apply to all requests.\n",
    "  strictSSL:            true,     // optional - requires SSL certificates to be valid.\n",
    "})\n"
   ]
  },
  {
   "cell_type": "code",
   "execution_count": 9,
   "id": "2222fdb9",
   "metadata": {},
   "outputs": [
    {
     "data": {
      "text/plain": [
       "Promise [Object] {\n",
       "  _bitField: 0,\n",
       "  _fulfillmentHandler0: undefined,\n",
       "  _rejectionHandler0: undefined,\n",
       "  _promise0: undefined,\n",
       "  _receiver0: undefined\n",
       "}"
      ]
     },
     "execution_count": 9,
     "metadata": {},
     "output_type": "execute_result"
    }
   ],
   "source": [
    "//EXTRACCION DE TWEETS USANDO LA LIBRERIA TWITTER\n",
    "tweet = []\n",
    "var max_id=0\n",
    "var params = {q: '_', count: 10, include_rts: 0, tweet_mode: 'extended', retweeted_status: 'extended',lang: 'es', geocode:\"-23.858436,-56.329842,1500mi\", since: '2021-10-30', max_id: max_id };\n",
    "\n",
    "T.get('search/tweets', params, function(error, tweets, response) {\n",
    "    if (!error) {\n",
    "         for(var i=0; i < params.count; i++){\n",
    "\n",
    "            if (tweets.retweeted_status){//es un RT, entonces tomo el objeto retweeted_status\n",
    "                tweets = tweets.retweeted_status;\n",
    "                var text = (JSON.stringify(tweets.statuses[i].full_text));\n",
    "                var created_at = (JSON.stringify(tweets.statuses[i].created_at));\n",
    "                var user = (JSON.stringify(tweets.statuses[i].user.screen_name));\n",
    "                var max_id = (JSON.stringify(tweets.statuses[i].id));\n",
    "                tweet.push([user, created_at, text] )\n",
    "            }\n",
    "            else{\n",
    "                var text = (JSON.stringify(tweets.statuses[i].full_text));\n",
    "                var created_at = (JSON.stringify(tweets.statuses[i].created_at));\n",
    "                var max_id = (JSON.stringify(tweets.statuses[i].id));\n",
    "                var user = (JSON.stringify(tweets.statuses[i].user.screen_name));\n",
    "                tweet.push([user, created_at, text] )\n",
    "            }\n",
    "\n",
    "        }\n",
    "    }\n",
    "});\n"
   ]
  },
  {
   "cell_type": "code",
   "execution_count": null,
   "id": "59dac672",
   "metadata": {},
   "outputs": [],
   "source": [
    "// forma1\n",
    "var columns = ['texto', 'user', 'fecha']\n",
    "var rows = []\n",
    "\n",
    "for(var i=0; i< tweets.length; i++){\n",
    "    var row = [\n",
    "             tweets[i].full_text,\n",
    "             tweets[i].user.screen_name,\n",
    "             tweets[i].created_at\n",
    "          ]\n",
    "    rows.push(row)    \n",
    "}\n",
    "\n",
    "//se crea dataframe...\n",
    "var dataframe_1 = new DataFrame(rows, columns);\n",
    "\n",
    "dataframe_1.show(10)"
   ]
  },
  {
   "cell_type": "markdown",
   "id": "6f0c460a",
   "metadata": {},
   "source": [
    "### Funciones"
   ]
  },
  {
   "cell_type": "code",
   "execution_count": 1,
   "id": "285a432e",
   "metadata": {},
   "outputs": [],
   "source": [
    "// https://stackoverflow.com/questions/23571013/how-to-remove-url-from-a-string-completely-in-javascript\n",
    "//https://stackoverflow.com/questions/10992921/how-to-remove-emoji-code-using-javascript\n",
    "//https://stackoverflow.com/questions/17864482/javascript-regex-searching-for-hashtags\n",
    "//https://stackoverflow.com/questions/18065807/regular-expression-for-removing-whitespaces\n",
    "\n",
    "//i para hacerlo case insensitive\n",
    "//g para que busque por toda la cadena\n",
    "\n",
    "function clean_text(string){\n",
    "    \n",
    "        var cleaned_str = string.replace(/(?:https?|ftp):\\/\\/[\\n\\S]+/g,'')\n",
    "        cleaned_str = cleaned_str.replace(/([\\u2700-\\u27BF]|[\\uE000-\\uF8FF]|\\uD83C[\\uDC00-\\uDFFF]|\\uD83D[\\uDC00-\\uDFFF]|[\\u2011-\\u26FF]|\\uD83E[\\uDD10-\\uDDFF])/g,' ')\n",
    "\n",
    "        //cleaned_str = cleaned_str.replace(/\\B[@]\\S+\\b/,' ')\n",
    "        cleaned_str = cleaned_str.replace(/(^|\\W)(#[a-z\\d][\\w-]*)/ig,' ')\n",
    "\n",
    "        cleaned_str = cleaned_str.replace(/(^|\\W)(@[a-z\\d][\\w-]*)/ig,' ')\n",
    "\n",
    "\n",
    "        //cleaned_str = cleaned_str.replace(/[\\.,-\\/#!$%\\+^&\\*;:{}=\\-_`~()@\\+\\?><\\[\\]\\+]/g,' ')\n",
    "        cleaned_str = cleaned_str.replace(/[\\u2000-\\u206F\\u2E00-\\u2E7F\\\\'~!\"#$%&()*+,\\-.\\/¿?:;<=>?@\\[\\]^_`¡{|}~]/g,'')\n",
    "\n",
    "        var poco_significativo = 'cuando|cuándo|estan|aquí|esta|está|como|pero|ya|todo|todos|todas|solo|esto|entre|otro|en|ni|ya|ese|eso|esos|tan|sin|no|sí|si|al|para|el|ella|ellos|ellas|él|la|las|lo|los|le|les|yo|ya|me|mí|mi|tu|tus|tú|te|ti|se|de|del|su|sus|mas|más|un|unos|este|y|en|una|por|que|qué|es|rt|con|vs|tw'\n",
    "\n",
    "        cleaned_str = cleaned_str.replace(new RegExp('\\\\b(' + poco_significativo + ')\\\\b', 'gi') ,'')\n",
    "\n",
    "        cleaned_str =  cleaned_str.replace(/\\s{2,}/g, ' ')\n",
    "    \n",
    "        cleaned_str =  cleaned_str.replace(/\\n/g, ' ')\n",
    "\n",
    "    \n",
    "        cleaned_str = cleaned_str.replace(/[0-9]/g,'')\n",
    "\n",
    "        cleaned_str = cleaned_str.replace(/^\\s+|\\s+$|\\s+(?=\\s)/g,'')\n",
    "\n",
    "        cleaned_str = cleaned_str.toLowerCase()\n",
    "    \n",
    "        return cleaned_str\n",
    "    \n",
    "}\n",
    "\n",
    "\n"
   ]
  },
  {
   "cell_type": "code",
   "execution_count": 47,
   "id": "fba17260",
   "metadata": {},
   "outputs": [],
   "source": [
    "function graficar(set){\n",
    "\n",
    "    //FRECUENCIAS\n",
    "    //diccionario con frecuencias\n",
    "    dict = arrayCounter(set)\n",
    "\n",
    "    //ordenacion del diccionario\n",
    "    //crea elementos\n",
    "    var items = Object.keys(dict).map(function(key) {\n",
    "       return [key, dict[key]];\n",
    "    });\n",
    "\n",
    "    // ordenar por valor\n",
    "    items.sort(function(first, second) {\n",
    "       return second[1] - first[1];\n",
    "    });\n",
    "\n",
    "    // nuevo array con el top 20\n",
    "    array_aux = items.slice(0, 20)\n",
    "\n",
    "    palabras = []\n",
    "    frecuencia = []\n",
    "    for( var i=0; i < array_aux.length; i++){\n",
    "\n",
    "        palabras.push(array_aux[i][0])\n",
    "        frecuencia.push(array_aux[i][1])\n",
    "\n",
    "    }\n",
    "    \n",
    "    //GRAFICO\n",
    "    var data = [{x:palabras, y:frecuencia, type: 'bar'}];\n",
    "    var layout = {fileopt : \"overwrite\", filename : \"simple-node-example\"};\n",
    "\n",
    "    plotly.plot(data, layout, function (err, msg) {\n",
    "        if (err) return console.log(err);\n",
    "        console.log(msg);\n",
    "    });\n",
    "\n",
    "    return $$.html(\"<iframe width='500' height='400' frameborder='0' scrolling='no' src='//plotly.com/~alderetecami996/0.embed'></iframe>\");\n",
    "    \n",
    "}"
   ]
  },
  {
   "cell_type": "code",
   "execution_count": 115,
   "id": "2ffcde6f",
   "metadata": {},
   "outputs": [],
   "source": [
    "function sortObjectByKeys(o) {\n",
    "    return Object.keys(o).sort().reduce((r, k) => (r[k] = o[k], r), {});\n",
    "}\n"
   ]
  },
  {
   "cell_type": "code",
   "execution_count": null,
   "id": "34f2aec6",
   "metadata": {},
   "outputs": [],
   "source": []
  },
  {
   "cell_type": "code",
   "execution_count": 118,
   "id": "93264e59",
   "metadata": {},
   "outputs": [],
   "source": [
    "//se ordena diccionario por clave\n",
    "function graficar2(set){\n",
    "\n",
    "    //FRECUENCIAS\n",
    "    //diccionario con frecuencias\n",
    "    dict = arrayCounter(set)\n",
    "    var sorted=sortObjectByKeys(dict);\n",
    "    \n",
    "    x = []\n",
    "    y = []\n",
    "    for (var [key, value] of Object.entries(sorted)) {\n",
    "\n",
    "        x.push(key)\n",
    "        y.push(value)\n",
    "\n",
    "    }\n",
    "    \n",
    "    //GRAFICO\n",
    "    var data = [{x:x, y:y, type: 'bar'}];\n",
    "    var layout = {fileopt : \"overwrite\", filename : \"simple-node-example\"};\n",
    "\n",
    "    plotly.plot(data, layout, function (err, msg) {\n",
    "        if (err) return console.log(err);\n",
    "        console.log(msg);\n",
    "    });\n",
    "\n",
    "    return $$.html(\"<iframe width='500' height='400' frameborder='0' scrolling='no' src='//plotly.com/~alderetecami996/0.embed'></iframe>\");\n",
    "    \n",
    "}"
   ]
  },
  {
   "cell_type": "code",
   "execution_count": null,
   "id": "b8ef85cf",
   "metadata": {},
   "outputs": [],
   "source": []
  },
  {
   "cell_type": "markdown",
   "id": "db626d74",
   "metadata": {},
   "source": [
    "### Conjunto 1 "
   ]
  },
  {
   "cell_type": "code",
   "execution_count": 7,
   "id": "c5fda652",
   "metadata": {},
   "outputs": [
    {
     "name": "stdout",
     "output_type": "stream",
     "text": [
      " \n"
     ]
    }
   ],
   "source": [
    "var df1\n",
    "DataFrame.fromCSV('C:/Users/alder/Documents/Facultad/sem1_2021/estru/trabajo_practico/ruby_set_1.csv').then(result => df1 = result)\n",
    "console.log(\" \")"
   ]
  },
  {
   "cell_type": "markdown",
   "id": "236abac0",
   "metadata": {},
   "source": []
  },
  {
   "cell_type": "code",
   "execution_count": 9,
   "id": "5bf9a53b",
   "metadata": {},
   "outputs": [
    {
     "data": {
      "text/plain": [
       "[\n",
       "  'pancho',        'papa',      'dijo',         'puto',\n",
       "  'psicopedagoga', 'recordo',   'epoca',        'existia',\n",
       "  'dice',          'gusta',     'futbol',       'infeliz',\n",
       "  'critica',       'jugador',   'retirado',     'porque',\n",
       "  'molesta',       'algunos',   'recuerdan',    'alegría',\n",
       "  'tienes',        'partido',   'equipo',       'favorito',\n",
       "  'seriaa',        'mandanos',  'diremos',      'verlo',\n",
       "  'necesitas',     'celular',   'internet',     'fútbol',\n",
       "  'pueden',        'pagar',     'cable',        'medio',\n",
       "  'pelo',          'igual',     'pobre',        'vicuña',\n",
       "  'duele',         'jugar',     'fútbol',       'jajajajaj',\n",
       "  'sacar',         'hasta',     'ganas',        'jugar',\n",
       "  'fútbol',        'vidas',     'infierno',     'vivió',\n",
       "  'central',       'artigas',   'increíble',    'siguen',\n",
       "  'pasando',       'fútbol',    'interior',     'piqué',\n",
       "  'gusta',         'haga',      'cosas',        'comprar',\n",
       "  'derechos',      'liga',      'francesa',     'demás',\n",
       "  'poder',         'messi',     'demás',        'hacer',\n",
       "  'fútbolpero',    'gusta',     'esté',         'pensando',\n",
       "  'otras',         'cosas',     'barça',        'quiere',\n",
       "  'retire',        'haga',      'aquí',         'vinicius',\n",
       "  'estuvo',        'arreglado', 'barcelona',    'madrid',\n",
       "  'ofreció',       'doble',     'piqué',        'revela',\n",
       "  'negociación',   'problema',  'futbolístico', 'porque',\n",
       "  'habla',         'fútbol',    'monstruo',     'morado',\n",
       "  ... 67664 more items\n",
       "]"
      ]
     },
     "execution_count": 9,
     "metadata": {},
     "output_type": "execute_result"
    }
   ],
   "source": [
    "//extrayendo y limpiando palabras\n",
    "var set = []\n",
    "\n",
    "df1.map(row =>{ \n",
    "    var texto = row.get('texto');\n",
    "    texto = clean_text(texto);\n",
    "    var palabras = texto.split(' ');\n",
    "    \n",
    "    for( var i=0; i < palabras.length; i++){\n",
    "        if(  palabras[i].length > 3 ){\n",
    "            set.push( palabras[i] );\n",
    "        }\n",
    "    }\n",
    "    \n",
    "});\n",
    "set"
   ]
  },
  {
   "cell_type": "code",
   "execution_count": 62,
   "id": "fe65c0da",
   "metadata": {},
   "outputs": [
    {
     "data": {
      "text/html": [
       "<iframe width='500' height='400' frameborder='0' scrolling='no' src='//plotly.com/~alderetecami996/0.embed'></iframe>"
      ]
     },
     "execution_count": 62,
     "metadata": {},
     "output_type": "execute_result"
    },
    {
     "name": "stdout",
     "output_type": "stream",
     "text": [
      "{\n",
      "  streamstatus: undefined,\n",
      "  url: 'https://chart-studio.plotly.com/~alderetecami996/0',\n",
      "  message: \"High five! You successfully sent some data to your account on plotly. View your plot in your browser at https://chart-studio.plotly.com/~alderetecami996/0 or inside your Plotly account where it is named 'simple-node-example'\",\n",
      "  warning: '',\n",
      "  filename: 'simple-node-example',\n",
      "  error: ''\n",
      "}\n"
     ]
    }
   ],
   "source": [
    "graficar(set)"
   ]
  },
  {
   "cell_type": "markdown",
   "id": "084f639f",
   "metadata": {},
   "source": [
    "### Conjunto 2"
   ]
  },
  {
   "cell_type": "code",
   "execution_count": 42,
   "id": "b1830c30",
   "metadata": {},
   "outputs": [
    {
     "name": "stdout",
     "output_type": "stream",
     "text": [
      " \n"
     ]
    }
   ],
   "source": [
    "var df2\n",
    "DataFrame.fromCSV('C:/Users/alder/Documents/Facultad/sem1_2021/estru/trabajo_practico/ruby_set_2.csv').then(result => df2 = result)\n",
    "console.log(\" \")"
   ]
  },
  {
   "cell_type": "code",
   "execution_count": 43,
   "id": "24196cb8",
   "metadata": {},
   "outputs": [
    {
     "data": {
      "text/plain": [
       "[\n",
       "  'número',          'estiramela',     'poco',        'maaas',\n",
       "  'hospitales',      'universitarios', 'venezolanos', 'hijodefrutas',\n",
       "  'zapatero',        'tiene',          'mina',        'manchada',\n",
       "  'sangre',          'venezolana',     'justamente',  'esotodos',\n",
       "  'estamos',         'unidos',         'contra',      'contra',\n",
       "  'arbitrariedades', 'abusos',         'falta',       'transparencia',\n",
       "  'gobierno',        'hijo',           'llama',       'democracia',\n",
       "  'podemos',         'pensar',         'diferente',   'saber',\n",
       "  'convivir',        'hazla',          'bien',        'twnsfw',\n",
       "  'igual',           'acabo',          'entrar',      'jeans',\n",
       "  'faves',           'fuerza',         'entré',       'bueno',\n",
       "  'gente',           'hago',           'traspaso',    'apartamentito',\n",
       "  'hermoso',         'palermo',        'cerquita',    'mejores',\n",
       "  'barcitos',        'montevideo',     'asique',      'hablenme',\n",
       "  'quieren',         'conocen',        'alguien',     'quiera',\n",
       "  'arriba',          'vivir',          'blanqueada',  'viejisssss',\n",
       "  'arregla',         'boinas',         'verde',       'keaton',\n",
       "  'pendejo',         'tuit',           'obligatorio', 'decir',\n",
       "  'pendejafas',      'nuevo',          'ministro',    'puedes',\n",
       "  'solucionar',      'justicia',       'seas',        'volve',\n",
       "  'extraño',         'picó',           'fuerte',      'respuesta',\n",
       "  'wanda',           'nara',           'alejandra',   'maglietti',\n",
       "  'cuestionó',       'twitter',        'nombres',     'exponer',\n",
       "  'decirlo',         'china',          'árez',        'siguen',\n",
       "  'apareciendo',     'funcionarios',   'vinculados',  'cambiemos',\n",
       "  ... 48809 more items\n",
       "]"
      ]
     },
     "execution_count": 43,
     "metadata": {},
     "output_type": "execute_result"
    }
   ],
   "source": [
    "//extrayendo y limpiando palabras\n",
    "var set2 = []\n",
    "\n",
    "df2.map(row =>{ \n",
    "    var texto = row.get('texto');\n",
    "    texto = clean_text(texto);\n",
    "    var palabras = texto.split(' ');\n",
    "    \n",
    "    for( var i=0; i < palabras.length; i++){\n",
    "        if(  palabras[i].length > 3 ){\n",
    "            set2.push( palabras[i] );\n",
    "        }\n",
    "    }\n",
    "    \n",
    "});\n",
    "set2"
   ]
  },
  {
   "cell_type": "code",
   "execution_count": 60,
   "id": "1ac18402",
   "metadata": {},
   "outputs": [
    {
     "data": {
      "text/html": [
       "<iframe width='500' height='400' frameborder='0' scrolling='no' src='//plotly.com/~alderetecami996/0.embed'></iframe>"
      ]
     },
     "execution_count": 60,
     "metadata": {},
     "output_type": "execute_result"
    },
    {
     "name": "stdout",
     "output_type": "stream",
     "text": [
      "{\n",
      "  streamstatus: undefined,\n",
      "  url: 'https://chart-studio.plotly.com/~alderetecami996/0',\n",
      "  message: \"High five! You successfully sent some data to your account on plotly. View your plot in your browser at https://chart-studio.plotly.com/~alderetecami996/0 or inside your Plotly account where it is named 'simple-node-example'\",\n",
      "  warning: '',\n",
      "  filename: 'simple-node-example',\n",
      "  error: ''\n",
      "}\n"
     ]
    }
   ],
   "source": [
    "graficar(set2)"
   ]
  },
  {
   "cell_type": "markdown",
   "id": "c3eb7c12",
   "metadata": {},
   "source": [
    "# Union"
   ]
  },
  {
   "cell_type": "code",
   "execution_count": 68,
   "id": "942ce28d",
   "metadata": {},
   "outputs": [],
   "source": [
    "var union = [...set, ...set2];\n",
    "//union.concat(set, set2);\n"
   ]
  },
  {
   "cell_type": "code",
   "execution_count": 73,
   "id": "bd184970",
   "metadata": {},
   "outputs": [
    {
     "data": {
      "text/html": [
       "<iframe width='500' height='400' frameborder='0' scrolling='no' src='//plotly.com/~alderetecami996/0.embed'></iframe>"
      ]
     },
     "execution_count": 73,
     "metadata": {},
     "output_type": "execute_result"
    },
    {
     "name": "stdout",
     "output_type": "stream",
     "text": [
      "{\n",
      "  streamstatus: undefined,\n",
      "  url: 'https://chart-studio.plotly.com/~alderetecami996/0',\n",
      "  message: \"High five! You successfully sent some data to your account on plotly. View your plot in your browser at https://chart-studio.plotly.com/~alderetecami996/0 or inside your Plotly account where it is named 'simple-node-example'\",\n",
      "  warning: '',\n",
      "  filename: 'simple-node-example',\n",
      "  error: ''\n",
      "}\n"
     ]
    }
   ],
   "source": [
    "graficar(union)"
   ]
  },
  {
   "cell_type": "markdown",
   "id": "ce2e10b7",
   "metadata": {},
   "source": [
    "# Interseccion"
   ]
  },
  {
   "cell_type": "code",
   "execution_count": 101,
   "id": "0823aa35",
   "metadata": {},
   "outputs": [
    {
     "name": "stdout",
     "output_type": "stream",
     "text": [
      " \n"
     ]
    }
   ],
   "source": [
    "var s1 = new Set(set);\n",
    "var s2 = new Set(set2);\n",
    "var interseccion = new Set( [...s1].filter(x => s2.has(x)));\n",
    "interseccion = [...interseccion];\n",
    "\n",
    "dict_union = arrayCounter(union)\n",
    "\n",
    "\n",
    "var interseccion_dup = []\n",
    "var palabra_\n",
    "var frecuencia__ \n",
    "\n",
    "var dicc_inter = []\n",
    "\n",
    "\n",
    "for(var i=0; i<interseccion.length; i++){\n",
    "    palabra_ = interseccion[i]\n",
    "    frecuencia_ = dict_union[palabra_]\n",
    "    \n",
    "    //dicc_inter[palabra_] = frecuencia__\n",
    "    var palabras_ = new Array(frecuencia_).fill(palabra_)\n",
    "    interseccion_dup = interseccion_dup.concat(palabras_)\n",
    "    \n",
    "}\n",
    "\n",
    "console.log(\" \")"
   ]
  },
  {
   "cell_type": "code",
   "execution_count": 99,
   "id": "7f51a102",
   "metadata": {
    "scrolled": true
   },
   "outputs": [
    {
     "data": {
      "text/html": [
       "<iframe width='500' height='400' frameborder='0' scrolling='no' src='//plotly.com/~alderetecami996/0.embed'></iframe>"
      ]
     },
     "execution_count": 99,
     "metadata": {},
     "output_type": "execute_result"
    },
    {
     "name": "stdout",
     "output_type": "stream",
     "text": [
      "{\n",
      "  streamstatus: undefined,\n",
      "  url: 'https://chart-studio.plotly.com/~alderetecami996/0',\n",
      "  message: \"High five! You successfully sent some data to your account on plotly. View your plot in your browser at https://chart-studio.plotly.com/~alderetecami996/0 or inside your Plotly account where it is named 'simple-node-example'\",\n",
      "  warning: '',\n",
      "  filename: 'simple-node-example',\n",
      "  error: ''\n",
      "}\n"
     ]
    }
   ],
   "source": [
    "graficar(interseccion_dup)\n"
   ]
  },
  {
   "cell_type": "code",
   "execution_count": 104,
   "id": "2f5e5a5a",
   "metadata": {},
   "outputs": [
    {
     "data": {
      "text/plain": [
       "[\n",
       "  'piqué',        'fútbolpero',         'arreglado',\n",
       "  'ofreció',      'piqué',              'futbolístico',\n",
       "  'monstruo',     'cremas',             'enfrentarán',\n",
       "  'transita',     'entró',              'transita',\n",
       "  'entró',        'guerreras',          'paramédico',\n",
       "  'dibujante',    'abarca',             'milla',\n",
       "  'guerreras',    'maipo',              'zarco',\n",
       "  'cisternas',    'almacenar',          'potable',\n",
       "  'chapultepec',  'dond',               'progresar',\n",
       "  'mantenga',     'funcion',            'incrementando',\n",
       "  'ascenso',      'parto',              'esperate',\n",
       "  'infantino',    'lleves',             'coutinho',\n",
       "  'partidazo',    'independientemente', 'ánimo',\n",
       "  'apuestas',     'promocional',        'spagirl',\n",
       "  'obtén',        'útbol',              'demoliera',\n",
       "  'campin',       'lote',               'agregado',\n",
       "  'inclusive',    'avalada',            'seguís',\n",
       "  'jajsjja',      'ironía',             'simeone',\n",
       "  'interrogado',  'klopp',              'ánimo',\n",
       "  'baches',       'fútbolun',           'riquelme',\n",
       "  'mobil',        'league',             'roman',\n",
       "  'pelotita',     'mediocre',           'literlamente',\n",
       "  'retardado',    'mediocres',          'festejaron',\n",
       "  'empate',       'showvove',           'rubia',\n",
       "  'planificando', 'mariscala',          'secos',\n",
       "  'naranjo',      'cisternas',          'almacenar',\n",
       "  'potable',      'chapultepec',        'adriana',\n",
       "  'giraldo',      'ómic',               'áfica',\n",
       "  'infantino',    'ruina',              'cruyfismo',\n",
       "  'filmarme',     'rasca',              'ensalzar',\n",
       "  'todopoderoso', 'pedri',              'superstats',\n",
       "  'futbolística', 'tegucigalpa',        'comayagua',\n",
       "  'siguatepeque', 'patearon',           'conejo',\n",
       "  'atonta',\n",
       "  ... 30033 more items\n",
       "]"
      ]
     },
     "execution_count": 104,
     "metadata": {},
     "output_type": "execute_result"
    }
   ],
   "source": [
    "var diferencia = set.filter(x => !set2.includes(x)).concat(set2.filter(x => !set.includes(x)));\n",
    "diferencia"
   ]
  },
  {
   "cell_type": "markdown",
   "id": "75d8c07f",
   "metadata": {},
   "source": [
    "# Numero de tweets por fecha"
   ]
  },
  {
   "cell_type": "code",
   "execution_count": 105,
   "id": "c0417744",
   "metadata": {},
   "outputs": [
    {
     "name": "stdout",
     "output_type": "stream",
     "text": [
      " \n"
     ]
    }
   ],
   "source": [
    "total = df1.union(df2)\n",
    "console.log(\" \")"
   ]
  },
  {
   "cell_type": "code",
   "execution_count": 127,
   "id": "03e1c42b",
   "metadata": {
    "scrolled": true
   },
   "outputs": [
    {
     "data": {
      "text/html": [
       "<iframe width='500' height='400' frameborder='0' scrolling='no' src='//plotly.com/~alderetecami996/0.embed'></iframe>"
      ]
     },
     "execution_count": 127,
     "metadata": {},
     "output_type": "execute_result"
    },
    {
     "name": "stdout",
     "output_type": "stream",
     "text": [
      "{\n",
      "  streamstatus: undefined,\n",
      "  url: 'https://chart-studio.plotly.com/~alderetecami996/0',\n",
      "  message: \"High five! You successfully sent some data to your account on plotly. View your plot in your browser at https://chart-studio.plotly.com/~alderetecami996/0 or inside your Plotly account where it is named 'simple-node-example'\",\n",
      "  warning: '',\n",
      "  filename: 'simple-node-example',\n",
      "  error: ''\n",
      "}\n"
     ]
    }
   ],
   "source": [
    "//nro_tweets_fecha_df = total.distinct('fecha')\n",
    "fechas = []\n",
    "fecha_df = total.select('fecha')\n",
    "\n",
    "fecha_df.map(row =>{ \n",
    "    f = row.get('fecha');\n",
    "    f = f.split(' ');\n",
    "    fecha = f[0]\n",
    "\n",
    "    fechas.push(fecha)\n",
    "});\n",
    "fechas\n",
    "graficar2(fechas)"
   ]
  },
  {
   "cell_type": "markdown",
   "id": "dffdf990",
   "metadata": {},
   "source": [
    "### Nro de personas que escribieron tweets por fechas"
   ]
  },
  {
   "cell_type": "code",
   "execution_count": 131,
   "id": "fd5d9fd6",
   "metadata": {},
   "outputs": [
    {
     "data": {
      "text/html": [
       "<iframe width='500' height='400' frameborder='0' scrolling='no' src='//plotly.com/~alderetecami996/0.embed'></iframe>"
      ]
     },
     "execution_count": 131,
     "metadata": {},
     "output_type": "execute_result"
    },
    {
     "name": "stdout",
     "output_type": "stream",
     "text": [
      "{\n",
      "  streamstatus: undefined,\n",
      "  url: 'https://chart-studio.plotly.com/~alderetecami996/0',\n",
      "  message: \"High five! You successfully sent some data to your account on plotly. View your plot in your browser at https://chart-studio.plotly.com/~alderetecami996/0 or inside your Plotly account where it is named 'simple-node-example'\",\n",
      "  warning: '',\n",
      "  filename: 'simple-node-example',\n",
      "  error: ''\n",
      "}\n"
     ]
    }
   ],
   "source": [
    "var personas_por_fecha_arr = []\n",
    "personas_por_fecha= total.dropDuplicates('fecha', 'usuario')\n",
    "fechas = []\n",
    "\n",
    "personas_por_fecha.map(row =>{ \n",
    "    f = row.get('fecha');\n",
    "    f = f.split(' ');\n",
    "    fecha = f[0]\n",
    "\n",
    "    fechas.push(fecha)\n",
    "});\n",
    "\n",
    "graficar2(fechas)"
   ]
  },
  {
   "cell_type": "markdown",
   "id": "dcf59311",
   "metadata": {},
   "source": [
    "### Nro de tweets por usuario"
   ]
  },
  {
   "cell_type": "code",
   "execution_count": 133,
   "id": "dff1a4e1",
   "metadata": {},
   "outputs": [
    {
     "data": {
      "text/html": [
       "<iframe width='500' height='400' frameborder='0' scrolling='no' src='//plotly.com/~alderetecami996/0.embed'></iframe>"
      ]
     },
     "execution_count": 133,
     "metadata": {},
     "output_type": "execute_result"
    },
    {
     "name": "stdout",
     "output_type": "stream",
     "text": [
      "{\n",
      "  streamstatus: undefined,\n",
      "  url: 'https://chart-studio.plotly.com/~alderetecami996/0',\n",
      "  message: \"High five! You successfully sent some data to your account on plotly. View your plot in your browser at https://chart-studio.plotly.com/~alderetecami996/0 or inside your Plotly account where it is named 'simple-node-example'\",\n",
      "  warning: '',\n",
      "  filename: 'simple-node-example',\n",
      "  error: ''\n",
      "}\n"
     ]
    }
   ],
   "source": [
    "usuarios= total.select('usuario').toArray();\n",
    "graficar(usuarios)"
   ]
  },
  {
   "cell_type": "code",
   "execution_count": null,
   "id": "6961ad03",
   "metadata": {},
   "outputs": [],
   "source": []
  },
  {
   "cell_type": "code",
   "execution_count": null,
   "id": "d64c1e4f",
   "metadata": {},
   "outputs": [],
   "source": []
  },
  {
   "cell_type": "code",
   "execution_count": null,
   "id": "92c53afc",
   "metadata": {},
   "outputs": [],
   "source": []
  },
  {
   "cell_type": "code",
   "execution_count": null,
   "id": "1f6e0f59",
   "metadata": {},
   "outputs": [],
   "source": []
  },
  {
   "cell_type": "code",
   "execution_count": null,
   "id": "4686ad42",
   "metadata": {},
   "outputs": [],
   "source": []
  },
  {
   "cell_type": "code",
   "execution_count": null,
   "id": "2c74821e",
   "metadata": {},
   "outputs": [],
   "source": []
  },
  {
   "cell_type": "code",
   "execution_count": null,
   "id": "e571be98",
   "metadata": {},
   "outputs": [],
   "source": []
  },
  {
   "cell_type": "code",
   "execution_count": null,
   "id": "3d796064",
   "metadata": {},
   "outputs": [],
   "source": []
  },
  {
   "cell_type": "code",
   "execution_count": null,
   "id": "bf7828de",
   "metadata": {},
   "outputs": [],
   "source": []
  },
  {
   "cell_type": "code",
   "execution_count": null,
   "id": "4de16c88",
   "metadata": {},
   "outputs": [],
   "source": []
  },
  {
   "cell_type": "code",
   "execution_count": null,
   "id": "639b4e4f",
   "metadata": {},
   "outputs": [],
   "source": []
  },
  {
   "cell_type": "code",
   "execution_count": null,
   "id": "e904f5fd",
   "metadata": {},
   "outputs": [],
   "source": []
  },
  {
   "cell_type": "code",
   "execution_count": null,
   "id": "0ea17130",
   "metadata": {},
   "outputs": [],
   "source": []
  },
  {
   "cell_type": "code",
   "execution_count": null,
   "id": "26ef1df3",
   "metadata": {},
   "outputs": [],
   "source": []
  },
  {
   "cell_type": "code",
   "execution_count": null,
   "id": "0fe97c9f",
   "metadata": {},
   "outputs": [],
   "source": []
  },
  {
   "cell_type": "code",
   "execution_count": null,
   "id": "8269e59f",
   "metadata": {},
   "outputs": [],
   "source": []
  },
  {
   "cell_type": "code",
   "execution_count": null,
   "id": "4abce09b",
   "metadata": {},
   "outputs": [],
   "source": []
  },
  {
   "cell_type": "code",
   "execution_count": 29,
   "id": "5fbd4f0d",
   "metadata": {},
   "outputs": [],
   "source": []
  },
  {
   "cell_type": "code",
   "execution_count": 34,
   "id": "069d1b4d",
   "metadata": {},
   "outputs": [
    {
     "name": "stdout",
     "output_type": "stream",
     "text": [
      "| texto     | user      | fecha     |\n",
      "------------------------------------\n",
      "| RT @mu... | Angel_... | Wed Oc... |\n",
      "| RT @td... | ranquiros | Wed Oc... |\n",
      "| RT @Da... | fannyt... | Wed Oc... |\n",
      "| RT @Da... | Ximena... | Wed Oc... |\n",
      "| RT @Da... | Ariana... | Wed Oc... |\n",
      "| RT @Ac... | Ricard... | Wed Oc... |\n",
      "| RT @Zo... | miguel... | Wed Oc... |\n",
      "| RT @cc... | Antoni... | Wed Oc... |\n",
      "| RT @ca... | lovesl... | Wed Oc... |\n",
      "| RT @Ca... | Miguee... | Wed Oc... |\n"
     ]
    },
    {
     "data": {
      "text/plain": [
       "'| texto     | user      | fecha     |\\n' +\n",
       "  '------------------------------------\\n' +\n",
       "  '| RT @mu... | Angel_... | Wed Oc... |\\n' +\n",
       "  '| RT @td... | ranquiros | Wed Oc... |\\n' +\n",
       "  '| RT @Da... | fannyt... | Wed Oc... |\\n' +\n",
       "  '| RT @Da... | Ximena... | Wed Oc... |\\n' +\n",
       "  '| RT @Da... | Ariana... | Wed Oc... |\\n' +\n",
       "  '| RT @Ac... | Ricard... | Wed Oc... |\\n' +\n",
       "  '| RT @Zo... | miguel... | Wed Oc... |\\n' +\n",
       "  '| RT @cc... | Antoni... | Wed Oc... |\\n' +\n",
       "  '| RT @ca... | lovesl... | Wed Oc... |\\n' +\n",
       "  '| RT @Ca... | Miguee... | Wed Oc... |'"
      ]
     },
     "execution_count": 34,
     "metadata": {},
     "output_type": "execute_result"
    }
   ],
   "source": [
    "\n"
   ]
  },
  {
   "cell_type": "code",
   "execution_count": 35,
   "id": "7bb9d925",
   "metadata": {},
   "outputs": [
    {
     "data": {
      "text/plain": [
       "[ 10, 3 ]"
      ]
     },
     "execution_count": 35,
     "metadata": {},
     "output_type": "execute_result"
    }
   ],
   "source": [
    "dataframe_1.dim()"
   ]
  },
  {
   "cell_type": "code",
   "execution_count": 36,
   "id": "ea4f5210",
   "metadata": {},
   "outputs": [
    {
     "name": "stdout",
     "output_type": "stream",
     "text": [
      "| texto     |\n",
      "------------\n",
      "| RT @mu... |\n",
      "| RT @td... |\n",
      "| RT @Da... |\n",
      "| RT @Da... |\n",
      "| RT @Da... |\n"
     ]
    },
    {
     "data": {
      "text/plain": [
       "'| texto     |\\n' +\n",
       "  '------------\\n' +\n",
       "  '| RT @mu... |\\n' +\n",
       "  '| RT @td... |\\n' +\n",
       "  '| RT @Da... |\\n' +\n",
       "  '| RT @Da... |\\n' +\n",
       "  '| RT @Da... |'"
      ]
     },
     "execution_count": 36,
     "metadata": {},
     "output_type": "execute_result"
    }
   ],
   "source": [
    "dataframe_1.select('texto').show(5)"
   ]
  },
  {
   "cell_type": "code",
   "execution_count": null,
   "id": "8954b7ff",
   "metadata": {},
   "outputs": [],
   "source": []
  },
  {
   "cell_type": "code",
   "execution_count": null,
   "id": "4ca2fd33",
   "metadata": {},
   "outputs": [],
   "source": []
  },
  {
   "cell_type": "code",
   "execution_count": null,
   "id": "472a0ae4",
   "metadata": {},
   "outputs": [],
   "source": []
  },
  {
   "cell_type": "code",
   "execution_count": null,
   "id": "d4232881",
   "metadata": {},
   "outputs": [],
   "source": []
  },
  {
   "cell_type": "code",
   "execution_count": null,
   "id": "61967dfb",
   "metadata": {},
   "outputs": [],
   "source": []
  },
  {
   "cell_type": "code",
   "execution_count": null,
   "id": "70aa6b0b",
   "metadata": {},
   "outputs": [],
   "source": []
  },
  {
   "cell_type": "code",
   "execution_count": null,
   "id": "d92f3383",
   "metadata": {},
   "outputs": [],
   "source": []
  },
  {
   "cell_type": "code",
   "execution_count": null,
   "id": "1ce24fba",
   "metadata": {},
   "outputs": [],
   "source": []
  },
  {
   "cell_type": "code",
   "execution_count": null,
   "id": "e601b1e6",
   "metadata": {},
   "outputs": [],
   "source": []
  },
  {
   "cell_type": "markdown",
   "id": "0de5eb44",
   "metadata": {},
   "source": [
    "https://github.com/mafintosh/csv-parser\n",
    "\n",
    "\n",
    "\n",
    "\n"
   ]
  }
 ],
 "metadata": {
  "kernelspec": {
   "display_name": "Javascript (Node.js)",
   "language": "javascript",
   "name": "javascript"
  },
  "language_info": {
   "file_extension": ".js",
   "mimetype": "application/javascript",
   "name": "javascript",
   "version": "16.10.0"
  }
 },
 "nbformat": 4,
 "nbformat_minor": 5
}
